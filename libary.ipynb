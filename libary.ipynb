{
  "nbformat": 4,
  "nbformat_minor": 0,
  "metadata": {
    "colab": {
      "name": "Untitled",
      "provenance": [],
      "collapsed_sections": [],
      "authorship_tag": "ABX9TyMG5u04EjItDMXP+faX6NM+",
      "include_colab_link": true
    },
    "kernelspec": {
      "name": "python3",
      "display_name": "Python 3"
    }
  },
  "cells": [
    {
      "cell_type": "markdown",
      "metadata": {
        "id": "view-in-github",
        "colab_type": "text"
      },
      "source": [
        "<a href=\"https://colab.research.google.com/github/Fr3027/temp/blob/master/libary.ipynb\" target=\"_parent\"><img src=\"https://colab.research.google.com/assets/colab-badge.svg\" alt=\"Open In Colab\"/></a>"
      ]
    },
    {
      "cell_type": "code",
      "metadata": {
        "id": "fOpA02n4sMz9"
      },
      "source": [
        "import requests\n",
        "from datetime import date\n",
        "from datetime import timedelta\n",
        "import json\n",
        "import getopt\n",
        "import sys\n",
        "import time\n",
        "from sys import version_info\n",
        "from io import BytesIO\n",
        "from PIL import Image\n",
        "import base64\n",
        "\n",
        "global headers\n",
        "headers = {\n",
        "    'User-Agent': 'Mozilla/5.0 (Windows NT 10.0; Win64; x64; rv:80.0) Gecko/20100101 Firefox/80.0',\n",
        "    'Host': 'rgyy.wfust.edu.cn',\n",
        "    'Referer':'http://rgyy.wfust.edu.cn/book/more/type/4/lib/11'\n",
        "}\n",
        "\n",
        "#登录函数\n",
        "def login(id, pwd,phone,dayid):\n",
        " \n",
        "    l_params = {\n",
        "        'username': id,\n",
        "        'password': pwd,\n",
        "        'verify': '0000',\n",
        "    }\n",
        "    login_url = 'http://rgyy.wfust.edu.cn/'\n",
        "    s = requests.session()\n",
        "    s.get(url=login_url, headers=headers)\n",
        "    res = s.get(url='http://rgyy.wfust.edu.cn/api.php/check',headers=headers)\n",
        "    i = Image.open(BytesIO(res.content))\n",
        "    result = base64_api(uname='Destiny3027', pwd='frfzklgj1999', img=i)\n",
        "    l_params['verify']=result\n",
        "    res = s.post(url='http://rgyy.wfust.edu.cn/api.php/login',headers=headers,params=l_params)\n",
        "\n",
        "    r_params={\n",
        "        'mobile':phone,\n",
        "        'id':dayid\n",
        "    }\n",
        "    res = s.get(url='http://rgyy.wfust.edu.cn/api.php/activities/'+dayid+'/application2',headers=headers,params=r_params)\n",
        "    return s\n",
        "def base64_api(uname, pwd, img):\n",
        "    img = img.convert('RGB')\n",
        "    buffered = BytesIO()\n",
        "    img.save(buffered, format=\"JPEG\")\n",
        "    if version_info.major >= 3:\n",
        "        b64 = str(base64.b64encode(buffered.getvalue()), encoding='utf-8')\n",
        "    else:\n",
        "        b64 = str(base64.b64encode(buffered.getvalue()))\n",
        "    data = {\"username\": uname, \"password\": pwd, \"image\": b64}\n",
        "    result = json.loads(requests.post(\"http://api.ttshitu.com/base64\", json=data).text)\n",
        "    if result['success']:\n",
        "        return result[\"data\"][\"result\"]\n",
        "    else:\n",
        "        return result[\"message\"]\n",
        "    return \"\""
      ],
      "execution_count": 15,
      "outputs": []
    },
    {
      "cell_type": "code",
      "metadata": {
        "id": "w5VkdEfktMRW",
        "outputId": "a25d4227-093d-4dea-a885-1cec29de6bcc",
        "colab": {
          "base_uri": "https://localhost:8080/"
        }
      },
      "source": [
        "from flask_ngrok import run_with_ngrok\n",
        "from flask import Flask\n",
        "app = Flask(__name__)\n",
        "run_with_ngrok(app)\n",
        "@app.route('/')\n",
        "def byebye():\n",
        "    users = {\n",
        "        'fanrui':['201707070108','194812','18996374646'],\n",
        "        'xxx':['123','456']\n",
        "    }\n",
        "    from flask import request\n",
        "    username = request.args.get('username')\n",
        "    user = users.get(username)\n",
        "    login(user[0],user[1],user[2],371)\n",
        "    return \"预约完成\"\n",
        "app.run()"
      ],
      "execution_count": 18,
      "outputs": [
        {
          "output_type": "stream",
          "text": [
            " * Serving Flask app \"__main__\" (lazy loading)\n",
            " * Environment: production\n",
            "\u001b[31m   WARNING: This is a development server. Do not use it in a production deployment.\u001b[0m\n",
            "\u001b[2m   Use a production WSGI server instead.\u001b[0m\n",
            " * Debug mode: off\n"
          ],
          "name": "stdout"
        },
        {
          "output_type": "stream",
          "text": [
            " * Running on http://127.0.0.1:5000/ (Press CTRL+C to quit)\n",
            "Exception in thread Thread-26:\n",
            "Traceback (most recent call last):\n",
            "  File \"/usr/lib/python3.6/threading.py\", line 916, in _bootstrap_inner\n",
            "    self.run()\n",
            "  File \"/usr/lib/python3.6/threading.py\", line 1182, in run\n",
            "    self.function(*self.args, **self.kwargs)\n",
            "  File \"/usr/local/lib/python3.6/dist-packages/flask_ngrok.py\", line 70, in start_ngrok\n",
            "    ngrok_address = _run_ngrok()\n",
            "  File \"/usr/local/lib/python3.6/dist-packages/flask_ngrok.py\", line 38, in _run_ngrok\n",
            "    tunnel_url = j['tunnels'][0]['public_url']  # Do the parsing of the get\n",
            "IndexError: list index out of range\n",
            "\n"
          ],
          "name": "stderr"
        }
      ]
    },
    {
      "cell_type": "code",
      "metadata": {
        "id": "EooERYtaVpxn",
        "outputId": "826c1d72-226b-4985-9fca-a2a815fe6755",
        "colab": {
          "base_uri": "https://localhost:8080/",
          "height": 38
        }
      },
      "source": [
        "aaa={\n",
        "    'abc':['1','2'],\n",
        "    'bcb':['3','5']\n",
        "}\n",
        "aaa.get('abc')[0]"
      ],
      "execution_count": 10,
      "outputs": [
        {
          "output_type": "execute_result",
          "data": {
            "application/vnd.google.colaboratory.intrinsic+json": {
              "type": "string"
            },
            "text/plain": [
              "'1'"
            ]
          },
          "metadata": {
            "tags": []
          },
          "execution_count": 10
        }
      ]
    }
  ]
}